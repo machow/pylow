{
 "cells": [
  {
   "cell_type": "code",
   "execution_count": 9,
   "metadata": {
    "collapsed": false
   },
   "outputs": [],
   "source": [
    "from pylow import Symbol, get_type\n",
    "from test import defer, sum2, sum3\n",
    "\n",
    "X = Symbol()\n"
   ]
  },
  {
   "cell_type": "code",
   "execution_count": 12,
   "metadata": {
    "collapsed": false
   },
   "outputs": [
    {
     "data": {
      "text/plain": [
       "5"
      ]
     },
     "execution_count": 12,
     "metadata": {},
     "output_type": "execute_result"
    }
   ],
   "source": [
    "d = {'a': 1, 'b': 2}\n",
    "\n",
    "sum3(X['a'] + X['b'], X['b'])(d)\n",
    "#sum2(X)([1,2,3])"
   ]
  },
  {
   "cell_type": "code",
   "execution_count": 27,
   "metadata": {
    "collapsed": false
   },
   "outputs": [
    {
     "name": "stdout",
     "output_type": "stream",
     "text": [
      "5\n"
     ]
    },
    {
     "data": {
      "text/plain": [
       "\"(x) => getattr(getattr(x, 'a'), 'a')\""
      ]
     },
     "execution_count": 27,
     "metadata": {},
     "output_type": "execute_result"
    }
   ],
   "source": [
    "import inspect\n",
    "\n",
    "def get_type(cls, attr):\n",
    "    try:\n",
    "        return [a.kind for a in inspect.classify_class_attrs(cls) if a.name == attr][0]\n",
    "    except IndexError:\n",
    "        return None\n",
    "\n",
    "class Test(object):\n",
    "    @classmethod\n",
    "    def foo(cls):\n",
    "        print 'foo'\n",
    "\n",
    "    def bar(self):\n",
    "        print 'bar'\n",
    "\n",
    "    @staticmethod\n",
    "    def baz():\n",
    "        print 'baz'\n",
    "    \n",
    "s = Simple()\n",
    "print s.a(2)\n",
    "\n",
    "#sum3(X.a(2), X.var)\n",
    "\n",
    "sum3(X.var, X.var)(s)\n",
    "\n",
    "str(X.a.a)\n",
    "#getattr(s, 'a').__get__(s)(2)"
   ]
  }
 ],
 "metadata": {
  "kernelspec": {
   "display_name": "Python 2",
   "language": "python",
   "name": "python2"
  },
  "language_info": {
   "codemirror_mode": {
    "name": "ipython",
    "version": 2
   },
   "file_extension": ".py",
   "mimetype": "text/x-python",
   "name": "python",
   "nbconvert_exporter": "python",
   "pygments_lexer": "ipython2",
   "version": "2.7.10"
  }
 },
 "nbformat": 4,
 "nbformat_minor": 0
}
